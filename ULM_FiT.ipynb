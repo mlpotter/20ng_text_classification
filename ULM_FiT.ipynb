{
 "cells": [
  {
   "cell_type": "markdown",
   "metadata": {},
   "source": [
    "tutorial + code is available at\n",
    "\n",
    "https://towardsdatascience.com/machine-learning-text-classification-language-modelling-using-fast-ai-b1b334f2872d\n",
    "\n",
    "and\n",
    "\n",
    "https://docs.fast.ai/text.html"
   ]
  },
  {
   "cell_type": "code",
   "execution_count": 1,
   "metadata": {},
   "outputs": [],
   "source": [
    "from fastai.text import * "
   ]
  },
  {
   "cell_type": "markdown",
   "metadata": {},
   "source": [
    "# Read in the data"
   ]
  },
  {
   "cell_type": "code",
   "execution_count": 2,
   "metadata": {},
   "outputs": [
    {
     "data": {
      "text/plain": [
       "WindowsPath('C:/Users/lpott/.fastai/data/imdb_sample')"
      ]
     },
     "execution_count": 2,
     "metadata": {},
     "output_type": "execute_result"
    }
   ],
   "source": [
    "path = untar_data(URLs.IMDB_SAMPLE)\n",
    "path"
   ]
  },
  {
   "cell_type": "code",
   "execution_count": 3,
   "metadata": {},
   "outputs": [],
   "source": [
    "from sklearn.datasets import fetch_20newsgroups\n",
    "newsgroups_train = fetch_20newsgroups(subset='all',remove=('headers', 'footers', 'quotes'))"
   ]
  },
  {
   "cell_type": "code",
   "execution_count": 4,
   "metadata": {},
   "outputs": [
    {
     "name": "stdout",
     "output_type": "stream",
     "text": [
      "Number of training sentences: 18,846\n",
      "\n"
     ]
    },
    {
     "data": {
      "text/html": [
       "<div>\n",
       "<style scoped>\n",
       "    .dataframe tbody tr th:only-of-type {\n",
       "        vertical-align: middle;\n",
       "    }\n",
       "\n",
       "    .dataframe tbody tr th {\n",
       "        vertical-align: top;\n",
       "    }\n",
       "\n",
       "    .dataframe thead th {\n",
       "        text-align: right;\n",
       "    }\n",
       "</style>\n",
       "<table border=\"1\" class=\"dataframe\">\n",
       "  <thead>\n",
       "    <tr style=\"text-align: right;\">\n",
       "      <th></th>\n",
       "      <th>label</th>\n",
       "      <th>sentence</th>\n",
       "    </tr>\n",
       "  </thead>\n",
       "  <tbody>\n",
       "    <tr>\n",
       "      <th>0</th>\n",
       "      <td>10</td>\n",
       "      <td>\\n\\nI am sure some bashers of Pens fans are pr...</td>\n",
       "    </tr>\n",
       "    <tr>\n",
       "      <th>1</th>\n",
       "      <td>3</td>\n",
       "      <td>My brother is in the market for a high-perform...</td>\n",
       "    </tr>\n",
       "    <tr>\n",
       "      <th>2</th>\n",
       "      <td>17</td>\n",
       "      <td>\\n\\n\\n\\n\\tFinally you said what you dream abou...</td>\n",
       "    </tr>\n",
       "    <tr>\n",
       "      <th>3</th>\n",
       "      <td>3</td>\n",
       "      <td>\\nThink!\\n\\nIt's the SCSI card doing the DMA t...</td>\n",
       "    </tr>\n",
       "    <tr>\n",
       "      <th>4</th>\n",
       "      <td>4</td>\n",
       "      <td>1)    I have an old Jasmine drive which I cann...</td>\n",
       "    </tr>\n",
       "  </tbody>\n",
       "</table>\n",
       "</div>"
      ],
      "text/plain": [
       "   label                                           sentence\n",
       "0     10  \\n\\nI am sure some bashers of Pens fans are pr...\n",
       "1      3  My brother is in the market for a high-perform...\n",
       "2     17  \\n\\n\\n\\n\\tFinally you said what you dream abou...\n",
       "3      3  \\nThink!\\n\\nIt's the SCSI card doing the DMA t...\n",
       "4      4  1)    I have an old Jasmine drive which I cann..."
      ]
     },
     "execution_count": 4,
     "metadata": {},
     "output_type": "execute_result"
    }
   ],
   "source": [
    "df = pd.DataFrame(data={\"label\":newsgroups_train[\"target\"],\"sentence\":newsgroups_train[\"data\"]})\n",
    "print('Number of training sentences: {:,}\\n'.format(df.shape[0]))\n",
    "df.head()"
   ]
  },
  {
   "cell_type": "markdown",
   "metadata": {},
   "source": [
    "# Split the data"
   ]
  },
  {
   "cell_type": "code",
   "execution_count": 5,
   "metadata": {},
   "outputs": [],
   "source": [
    "from sklearn.model_selection import train_test_split\n",
    "# Use 90% for training and 10% for validation.\n",
    "train_inputs, validation_inputs, train_labels, validation_labels = train_test_split(df['sentence'], df['label'], \n",
    "                                                            random_state=2018, test_size=0.22)"
   ]
  },
  {
   "cell_type": "code",
   "execution_count": 6,
   "metadata": {},
   "outputs": [],
   "source": [
    "col_names = ['labels','text']\n",
    "df_trn = pd.DataFrame({'text':train_inputs, 'labels':train_labels}, columns=col_names)\n",
    "df_val = pd.DataFrame({'text':validation_inputs, 'labels':validation_labels}, columns=col_names)"
   ]
  },
  {
   "cell_type": "markdown",
   "metadata": {},
   "source": [
    "# Data Preprocessing"
   ]
  },
  {
   "cell_type": "markdown",
   "metadata": {},
   "source": [
    "* xxbos: Begining of a sentence\n",
    "* xxfld: Represent separate parts of a document like title, summary etc., each one will get a separate field and so they will get numbered (e.g. xxfld 1, xxfld 2).\n",
    "* xxup: If there's something in all caps, it gets lower cased and a token called xxup will get added to it. Words that are fully capitalized, such as “I AM SHOUTING”, are tokenized as “xxup i xxup am xxup shouting“\n",
    "* xxunk: token used instead of an uncommon word.\n",
    "* xxmaj: token indicates that there is capitalization of the word. “The” will be tokenized as “xxmaj the“.\n",
    "* xxrep: token indicates repeated word, if you have 29 ! in a row, (i.e. xxrep 29 !)."
   ]
  },
  {
   "cell_type": "code",
   "execution_count": 7,
   "metadata": {},
   "outputs": [
    {
     "data": {
      "text/html": [],
      "text/plain": [
       "<IPython.core.display.HTML object>"
      ]
     },
     "metadata": {},
     "output_type": "display_data"
    },
    {
     "name": "stderr",
     "output_type": "stream",
     "text": [
      "C:\\Users\\lpott\\anaconda3\\envs\\NLP\\lib\\site-packages\\fastai\\core.py:302: VisibleDeprecationWarning: Creating an ndarray from ragged nested sequences (which is a list-or-tuple of lists-or-tuples-or ndarrays with different lengths or shapes) is deprecated. If you meant to do this, you must specify 'dtype=object' when creating the ndarray\n",
      "  return np.array(a, dtype=dtype, **kwargs)\n"
     ]
    },
    {
     "data": {
      "text/html": [],
      "text/plain": [
       "<IPython.core.display.HTML object>"
      ]
     },
     "metadata": {},
     "output_type": "display_data"
    }
   ],
   "source": [
    "# Language model data\n",
    "defaults.cpus=1\n",
    "data_lm = TextLMDataBunch.from_df(path=path, train_df=df_trn, valid_df=df_val,bs=16)"
   ]
  },
  {
   "cell_type": "code",
   "execution_count": 8,
   "metadata": {},
   "outputs": [
    {
     "data": {
      "text/html": [
       "<table border=\"1\" class=\"dataframe\">\n",
       "  <thead>\n",
       "    <tr style=\"text-align: right;\">\n",
       "      <th>idx</th>\n",
       "      <th>text</th>\n",
       "    </tr>\n",
       "  </thead>\n",
       "  <tbody>\n",
       "    <tr>\n",
       "      <td>0</td>\n",
       "      <td>xxmaj vida &gt; number of flying hours -- what are these limits ? xxmaj what are the \\n  xxmaj vida &gt; main problems associated with too many long - haul ( over 4 hours ) \\n  xxmaj vida &gt; trips ? \\n \\n  xxmaj the crew rest requirements are to prevent undue fatigue . xxmaj the cockpit \\n  crew ( pilot ) limits are somewhat more</td>\n",
       "    </tr>\n",
       "    <tr>\n",
       "      <td>1</td>\n",
       "      <td>gregory of xxmaj nazianzus , among others . xxmaj while starting with three , \\n  they show that their unity in nature and and action is such that one \\n  must think of them as being a single xxmaj god . xxmaj this allowed the xxmaj council \\n  of xxmaj constantinople , in 381 , to get wide agreement on the idea of \\n  three xxunk</td>\n",
       "    </tr>\n",
       "    <tr>\n",
       "      <td>2</td>\n",
       "      <td>\\n  xxup db xxup 10111000b ; 10111000 \\n  xxup db xxup 10111001b ; 10111001 \\n  xxup db xxup 10111010b ; 10111010 \\n  xxup db xxup 10111011b ; 10111011 \\n  xxup db xxup 10110011b ; 10 xxrep 4 1 00 \\n  xxup db 10 xxrep 4 1 xxup 01b ; 10 xxrep 4 1 01 \\n  xxup db 10 xxrep 5 1 xxup 0b</td>\n",
       "    </tr>\n",
       "    <tr>\n",
       "      <td>3</td>\n",
       "      <td>grb 's in the xxmaj oort cloud just came \\n  through the astrophysics abstract service . xxmaj to get a copy of this \\n \\n  xxmaj here is the abstract of that paper . \\n \\n  ... \\n  indicator to these events all possible sources which are \\n  isotropically distributed should remain under consideration . xxmaj this is \\n  why the xxmaj oort cloud</td>\n",
       "    </tr>\n",
       "    <tr>\n",
       "      <td>4</td>\n",
       "      <td>and shouders in xxup ttddd format ! xxmaj check it \\n  out , only if you ca n't use xxup ftp ! -- nfotis ] \\n \\n  xxup inria - xxup graphlib \\n  xxrep 14 - \\n  xxmaj pierre xxmaj jancene and xxmaj sabine xxmaj coquillart launched the inria - graphlib mail \\n  server a few months ago . \\n \\n  echo help |</td>\n",
       "    </tr>\n",
       "  </tbody>\n",
       "</table>"
      ],
      "text/plain": [
       "<IPython.core.display.HTML object>"
      ]
     },
     "metadata": {},
     "output_type": "display_data"
    }
   ],
   "source": [
    "data_lm.show_batch()"
   ]
  },
  {
   "cell_type": "code",
   "execution_count": 9,
   "metadata": {},
   "outputs": [],
   "source": [
    "# save and load\n",
    "# data_lm.save('tmp_lm.pkl')\n",
    "# data_lm = TextClasDataBunch.load(path, 'tmp_lm.pkl')"
   ]
  },
  {
   "cell_type": "markdown",
   "metadata": {},
   "source": [
    "## Language model fine-tuning"
   ]
  },
  {
   "cell_type": "code",
   "execution_count": 10,
   "metadata": {},
   "outputs": [],
   "source": [
    "# Language model\n",
    "learn = language_model_learner(data_lm, AWD_LSTM, drop_mult=0.5)"
   ]
  },
  {
   "cell_type": "code",
   "execution_count": 11,
   "metadata": {},
   "outputs": [
    {
     "data": {
      "text/html": [
       "\n",
       "    <div>\n",
       "        <style>\n",
       "            /* Turns off some styling */\n",
       "            progress {\n",
       "                /* gets rid of default border in Firefox and Opera. */\n",
       "                border: none;\n",
       "                /* Needs to be in here for Safari polyfill so background images work as expected. */\n",
       "                background-size: auto;\n",
       "            }\n",
       "            .progress-bar-interrupted, .progress-bar-interrupted::-webkit-progress-bar {\n",
       "                background: #F44336;\n",
       "            }\n",
       "        </style>\n",
       "      <progress value='0' class='' max='1' style='width:300px; height:20px; vertical-align: middle;'></progress>\n",
       "      0.00% [0/1 00:00<00:00]\n",
       "    </div>\n",
       "    \n",
       "<table border=\"1\" class=\"dataframe\">\n",
       "  <thead>\n",
       "    <tr style=\"text-align: left;\">\n",
       "      <th>epoch</th>\n",
       "      <th>train_loss</th>\n",
       "      <th>valid_loss</th>\n",
       "      <th>accuracy</th>\n",
       "      <th>time</th>\n",
       "    </tr>\n",
       "  </thead>\n",
       "  <tbody>\n",
       "  </tbody>\n",
       "</table><p>\n",
       "\n",
       "    <div>\n",
       "        <style>\n",
       "            /* Turns off some styling */\n",
       "            progress {\n",
       "                /* gets rid of default border in Firefox and Opera. */\n",
       "                border: none;\n",
       "                /* Needs to be in here for Safari polyfill so background images work as expected. */\n",
       "                background-size: auto;\n",
       "            }\n",
       "            .progress-bar-interrupted, .progress-bar-interrupted::-webkit-progress-bar {\n",
       "                background: #F44336;\n",
       "            }\n",
       "        </style>\n",
       "      <progress value='99' class='' max='3794' style='width:300px; height:20px; vertical-align: middle;'></progress>\n",
       "      2.61% [99/3794 00:50<31:14 12.4379]\n",
       "    </div>\n",
       "    "
      ],
      "text/plain": [
       "<IPython.core.display.HTML object>"
      ]
     },
     "metadata": {},
     "output_type": "display_data"
    },
    {
     "name": "stdout",
     "output_type": "stream",
     "text": [
      "LR Finder is complete, type {learner_name}.recorder.plot() to see the graph.\n"
     ]
    }
   ],
   "source": [
    "learn.lr_find()"
   ]
  },
  {
   "cell_type": "code",
   "execution_count": 12,
   "metadata": {},
   "outputs": [
    {
     "data": {
      "image/png": "[encoded data removed]",
      "text/plain": [
       "<Figure size 432x288 with 1 Axes>"
      ]
     },
     "metadata": {
      "needs_background": "light"
     },
     "output_type": "display_data"
    }
   ],
   "source": [
    "learn.recorder.plot()"
   ]
  },
  {
   "cell_type": "code",
   "execution_count": 13,
   "metadata": {},
   "outputs": [
    {
     "data": {
      "text/html": [
       "<table border=\"1\" class=\"dataframe\">\n",
       "  <thead>\n",
       "    <tr style=\"text-align: left;\">\n",
       "      <th>epoch</th>\n",
       "      <th>train_loss</th>\n",
       "      <th>valid_loss</th>\n",
       "      <th>accuracy</th>\n",
       "      <th>time</th>\n",
       "    </tr>\n",
       "  </thead>\n",
       "  <tbody>\n",
       "    <tr>\n",
       "      <td>0</td>\n",
       "      <td>4.171605</td>\n",
       "      <td>4.248922</td>\n",
       "      <td>0.270208</td>\n",
       "      <td>7:52:16</td>\n",
       "    </tr>\n",
       "    <tr>\n",
       "      <td>1</td>\n",
       "      <td>4.571016</td>\n",
       "      <td>4.269239</td>\n",
       "      <td>0.270541</td>\n",
       "      <td>05:46</td>\n",
       "    </tr>\n",
       "    <tr>\n",
       "      <td>2</td>\n",
       "      <td>4.519972</td>\n",
       "      <td>4.207200</td>\n",
       "      <td>0.277460</td>\n",
       "      <td>05:50</td>\n",
       "    </tr>\n",
       "    <tr>\n",
       "      <td>3</td>\n",
       "      <td>4.400272</td>\n",
       "      <td>4.151412</td>\n",
       "      <td>0.284316</td>\n",
       "      <td>05:54</td>\n",
       "    </tr>\n",
       "    <tr>\n",
       "      <td>4</td>\n",
       "      <td>4.190954</td>\n",
       "      <td>4.131828</td>\n",
       "      <td>0.286845</td>\n",
       "      <td>05:54</td>\n",
       "    </tr>\n",
       "  </tbody>\n",
       "</table>"
      ],
      "text/plain": [
       "<IPython.core.display.HTML object>"
      ]
     },
     "metadata": {},
     "output_type": "display_data"
    }
   ],
   "source": [
    "learn.fit_one_cycle(5,5e-3)"
   ]
  },
  {
   "cell_type": "code",
   "execution_count": 14,
   "metadata": {},
   "outputs": [],
   "source": [
    "torch.cuda.empty_cache()"
   ]
  },
  {
   "cell_type": "code",
   "execution_count": 15,
   "metadata": {},
   "outputs": [
    {
     "data": {
      "text/html": [
       "<table border=\"1\" class=\"dataframe\">\n",
       "  <thead>\n",
       "    <tr style=\"text-align: left;\">\n",
       "      <th>epoch</th>\n",
       "      <th>train_loss</th>\n",
       "      <th>valid_loss</th>\n",
       "      <th>accuracy</th>\n",
       "      <th>time</th>\n",
       "    </tr>\n",
       "  </thead>\n",
       "  <tbody>\n",
       "    <tr>\n",
       "      <td>0</td>\n",
       "      <td>3.881052</td>\n",
       "      <td>3.943559</td>\n",
       "      <td>0.314509</td>\n",
       "      <td>06:50</td>\n",
       "    </tr>\n",
       "    <tr>\n",
       "      <td>1</td>\n",
       "      <td>3.796178</td>\n",
       "      <td>3.887884</td>\n",
       "      <td>0.331811</td>\n",
       "      <td>06:52</td>\n",
       "    </tr>\n",
       "    <tr>\n",
       "      <td>2</td>\n",
       "      <td>3.588528</td>\n",
       "      <td>3.782378</td>\n",
       "      <td>0.346147</td>\n",
       "      <td>06:57</td>\n",
       "    </tr>\n",
       "    <tr>\n",
       "      <td>3</td>\n",
       "      <td>3.538262</td>\n",
       "      <td>3.720194</td>\n",
       "      <td>0.356086</td>\n",
       "      <td>06:56</td>\n",
       "    </tr>\n",
       "    <tr>\n",
       "      <td>4</td>\n",
       "      <td>3.227068</td>\n",
       "      <td>3.717727</td>\n",
       "      <td>0.357836</td>\n",
       "      <td>06:53</td>\n",
       "    </tr>\n",
       "  </tbody>\n",
       "</table>"
      ],
      "text/plain": [
       "<IPython.core.display.HTML object>"
      ]
     },
     "metadata": {},
     "output_type": "display_data"
    }
   ],
   "source": [
    "learn.unfreeze()\n",
    "learn.fit_one_cycle(5,1e-3)"
   ]
  },
  {
   "cell_type": "code",
   "execution_count": 16,
   "metadata": {},
   "outputs": [
    {
     "data": {
      "text/plain": [
       "'This computer is  a pretty reliable designed hot hat . This is bureau \\n  of the %'"
      ]
     },
     "execution_count": 16,
     "metadata": {},
     "output_type": "execute_result"
    }
   ],
   "source": [
    "learn.predict(\"This computer is \",n_words=15)"
   ]
  },
  {
   "cell_type": "code",
   "execution_count": 17,
   "metadata": {},
   "outputs": [],
   "source": [
    "learn.save_encoder('fine_enc')"
   ]
  },
  {
   "cell_type": "code",
   "execution_count": 18,
   "metadata": {},
   "outputs": [
    {
     "data": {
      "text/plain": [
       "1267.570688"
      ]
     },
     "execution_count": 18,
     "metadata": {},
     "output_type": "execute_result"
    }
   ],
   "source": [
    "(torch.cuda.memory_cached()-torch.cuda.memory_allocated())*10**-6"
   ]
  },
  {
   "cell_type": "code",
   "execution_count": 19,
   "metadata": {},
   "outputs": [
    {
     "data": {
      "text/plain": [
       "863.1357439999999"
      ]
     },
     "execution_count": 19,
     "metadata": {},
     "output_type": "execute_result"
    }
   ],
   "source": [
    "torch.cuda.memory_allocated()*10**-6"
   ]
  },
  {
   "cell_type": "code",
   "execution_count": 20,
   "metadata": {},
   "outputs": [],
   "source": [
    "torch.cuda.empty_cache()"
   ]
  },
  {
   "cell_type": "code",
   "execution_count": 21,
   "metadata": {},
   "outputs": [
    {
     "data": {
      "text/plain": [
       "321.755136"
      ]
     },
     "execution_count": 21,
     "metadata": {},
     "output_type": "execute_result"
    }
   ],
   "source": [
    "(torch.cuda.memory_cached()-torch.cuda.memory_allocated())*10**-6"
   ]
  },
  {
   "cell_type": "code",
   "execution_count": 22,
   "metadata": {},
   "outputs": [
    {
     "data": {
      "text/plain": [
       "863.1357439999999"
      ]
     },
     "execution_count": 22,
     "metadata": {},
     "output_type": "execute_result"
    }
   ],
   "source": [
    "torch.cuda.memory_allocated()*10**-6"
   ]
  },
  {
   "cell_type": "markdown",
   "metadata": {},
   "source": [
    "# Creating the classifier"
   ]
  },
  {
   "cell_type": "code",
   "execution_count": 23,
   "metadata": {},
   "outputs": [
    {
     "data": {
      "text/html": [],
      "text/plain": [
       "<IPython.core.display.HTML object>"
      ]
     },
     "metadata": {},
     "output_type": "display_data"
    },
    {
     "name": "stderr",
     "output_type": "stream",
     "text": [
      "C:\\Users\\lpott\\anaconda3\\envs\\NLP\\lib\\site-packages\\fastai\\core.py:302: VisibleDeprecationWarning: Creating an ndarray from ragged nested sequences (which is a list-or-tuple of lists-or-tuples-or ndarrays with different lengths or shapes) is deprecated. If you meant to do this, you must specify 'dtype=object' when creating the ndarray\n",
      "  return np.array(a, dtype=dtype, **kwargs)\n"
     ]
    },
    {
     "data": {
      "text/html": [],
      "text/plain": [
       "<IPython.core.display.HTML object>"
      ]
     },
     "metadata": {},
     "output_type": "display_data"
    },
    {
     "name": "stderr",
     "output_type": "stream",
     "text": [
      "C:\\Users\\lpott\\anaconda3\\envs\\NLP\\lib\\site-packages\\numpy\\core\\_asarray.py:83: VisibleDeprecationWarning: Creating an ndarray from ragged nested sequences (which is a list-or-tuple of lists-or-tuples-or ndarrays with different lengths or shapes) is deprecated. If you meant to do this, you must specify 'dtype=object' when creating the ndarray\n",
      "  return array(a, dtype, copy=False, order=order)\n",
      "<string>:6: VisibleDeprecationWarning: Creating an ndarray from ragged nested sequences (which is a list-or-tuple of lists-or-tuples-or ndarrays with different lengths or shapes) is deprecated. If you meant to do this, you must specify 'dtype=object' when creating the ndarray\n"
     ]
    }
   ],
   "source": [
    "defaults.cpus=1\n",
    "data_clas = TextClasDataBunch.from_df(path,train_df=df_trn,valid_df=df_val,\n",
    "                                      vocab=data_lm.train_ds.vocab,bs=8)"
   ]
  },
  {
   "cell_type": "code",
   "execution_count": 24,
   "metadata": {},
   "outputs": [],
   "source": [
    "torch.cuda.empty_cache()"
   ]
  },
  {
   "cell_type": "code",
   "execution_count": 25,
   "metadata": {},
   "outputs": [],
   "source": [
    "classifier = text_classifier_learner(data_clas,AWD_LSTM,drop_mult=0.45)"
   ]
  },
  {
   "cell_type": "code",
   "execution_count": 26,
   "metadata": {},
   "outputs": [
    {
     "data": {
      "text/plain": [
       "RNNLearner(data=TextClasDataBunch;\n",
       "\n",
       "Train: LabelList (14699 items)\n",
       "x: TextList\n",
       "xxbos xxmaj umm , perhaps you could explain what ' rights ' we are talking about \n",
       "  here ..,xxbos ... \n",
       " \n",
       "  xxmaj apologies , i 've not been paying attention .,xxbos \n",
       "  xxmaj vida > xxmaj can one develop inner - ear problems from too much flying ? i hear \n",
       "  xxmaj vida > that pilots and steward / esses have a limit as to the maximum \n",
       "  xxmaj vida > number of flying hours -- what are these limits ? xxmaj what are the \n",
       "  xxmaj vida > main problems associated with too many long - haul ( over 4 hours ) \n",
       "  xxmaj vida > trips ? \n",
       " \n",
       "  xxmaj the crew rest requirements are to prevent undue fatigue . xxmaj the cockpit \n",
       "  crew ( pilot ) limits are somewhat more stringent than the cabin crew \n",
       "  limits for this reason . xxmaj crew rest requirements address amount of time \n",
       "  on duty plus rest time . a tired crew is an accident - prone crew . \n",
       " \n",
       "  xxmaj the only limits i know of for inner - ear problems are in military \n",
       "  aircraft , which are frequently xxunk or less reliably \n",
       "  pressurized . xxmaj not being able to clear the ears renders xxunk members \n",
       "  xxup xxunk ( duties not involving flying ) or grounded until the ears clear . \n",
       " \n",
       "  xxmaj flying can xxunk problems if ears do n't clear . xxmaj if you do n't have \n",
       "  big pressure changes , you may not know that you 've got a problem . xxmaj but \n",
       "  if you zip up to 5,000 or 6,000 ft ( the usual cabin altitude in an \n",
       "  airliner ) and then back down to sea level , you may discover a problem . \n",
       "  xxmaj ears do n't clear readily because of allergies , colds , infections , and \n",
       "  xxunk problems . xxmaj the last wo n't change ; the first three can . \n",
       "  xxmaj medication ( decongestants or xxunk , usually ) can help . \n",
       "  xxmaj chewing gum , sucking hard candy ( or a bottle for babies ) , \n",
       "  xxunk -- these will help all four causes . \n",
       " \n",
       " ,xxbos g'day \n",
       " \n",
       "  xxmaj windows xxup nt is a step forward , but not by much . i guess for xxup dos users who \n",
       "  think multi - tasking is really _ neat _ ( add puke here ) and are overjoyed to \n",
       "  be able to use more than 64 k of memory , its a major improvement . xxmaj for xxmaj windows \n",
       "  users its more like an upgrade with facilities most xxmaj unix users take for \n",
       "  granted . xxmaj most of xxmaj windows users only use pcs for text processing or running \n",
       "  3rd - party applications anyway so the operating system features are not even \n",
       "  a real issue . xxmaj my ideal operating system : \n",
       " \n",
       " \t xxmaj binary compatible across all xxunk . xxmaj it should recognize \n",
       " \t binaries and configure on the fly , so i do n't have to have \n",
       " \t bin / xxmaj mac bin / xxup dos bin / xxmaj dec bin / xxmaj sun bin / xxup hp etc ... \n",
       " \n",
       " \t xxmaj multi - xxup cpu . xxmaj so i can use the cpus on my xxup pc and w / s and xxmaj mac \n",
       " \t and xxmaj xxunk and dsps . i do n't know a single site which \n",
       " \t has gone for a single vendor . i am not going to trade - in \n",
       " \t xxunk per xxup h1 transputer or ultra - fast xxup fft on xxup dsp chips . \n",
       " \t xxmaj note xxup nt runs on xxmaj symmetric multi - xxup cpu systems . \n",
       " \n",
       " \t xxmaj built - in portable xxup gui / xxmaj graphics tools . xxmaj you can call xxunk \n",
       " \t or xxunk and it does the same thing no matter what platform \n",
       " \t or display . xxmaj it should also translate graphics commands on - the - fly . \n",
       " \t so i can use xxup pc graphics s / w on my workstation and x software on \n",
       " \t my xxup pc . i think guis are not just nice to have but essential . \n",
       " \n",
       " \t xxmaj configurable front - end . xxmaj so you can make it look like xxmaj unix or xxup dos \n",
       " \t or xxup nt or xxup os / 2 , and run shell scripts or command / xxup bat files . \n",
       " \n",
       " \t xxmaj object oriented . xxmaj so i can program easily under it and not have \n",
       " \t to re - invent the wheel if the networking is not up to scratch \n",
       " \t or my application needs to access source / object code on the fly . \n",
       " \n",
       "  xxmaj in other words it should have some xxup ai capability . xxmaj that and a tight , clean \n",
       "  kernel so you can actually understand it . xxmaj anyone know of something like this ? \n",
       " \n",
       " \t adios \n",
       " \t  xxmaj ata < ( | ) > .,xxbos \n",
       "  i do n't think they 're paying for it . \n",
       " \n",
       " \n",
       "  xxmaj useful ? i find his estimate of the annual value to law enforcement \n",
       "  of $ 5 million quite useful , if rough ( e.g. wiretaps may be \n",
       "  preferentially used on otherwise - hard - to - catch criminals , resulting \n",
       "  in an underestimate ) . xxmaj this comes to twenty cents a head over the \n",
       "  xxup u.s. population . i would find some rigorous numbers on this quite \n",
       "  useful -- it would make for nice slogans : \" xxmaj your privacy is worth \n",
       "  $ 0.37 \" , or whatever it turns out to be . \n",
       " \n",
       "y: CategoryList\n",
       "14,19,13,5,11\n",
       "Path: C:\\Users\\lpott\\.fastai\\data\\imdb_sample;\n",
       "\n",
       "Valid: LabelList (4147 items)\n",
       "x: TextList\n",
       "xxbos xxmaj since i 've been seeing all kinds of complaints regarding xxmaj xxunk \n",
       "  lately on here , i thought i post my recent pleasant experiences . xxmaj my \n",
       "  machine ( xxup 4dx2 - xxup 66v ) this past xxmaj friday . xxmaj this was two weeks to the xxup day from \n",
       "  when i called the order in . \n",
       " \n",
       "  xxmaj upon xxunk it i found everything to be in perfect order . xxmaj all the \n",
       "  peripherals i ordered were properly installed ( xxmaj xxunk & xxup cd - xxup rom ) . i \n",
       "  was very impressed with the quantity and quality of the xxmaj gateway \n",
       "  documentation . xxmaj all software came with the original disks and manuals . \n",
       "  xxmaj the xxmaj gateway manual itself is in a nice xxunk binder . xxmaj the xxup ati xxup gup came \n",
       "  with xxunk drivers . xxmaj all other software i specified ( xxmaj microsoft xxmaj office ) \n",
       "  was properly installed . xxmaj the machine came right up out of the box and \n",
       "  has been performing flawlessly . xxmaj it 's been on all weekend and it hardly \n",
       "  even reaches room temperature . i think the big roomy tower case has a \n",
       "  lot to do with it . \n",
       " \n",
       "  xxmaj it 's up and running xxup dos 6.0 with no problems . i 've also read about \n",
       "  some people having problems with high speed serial communications . \n",
       "  i used the xxup dos 6.0 xxunk program which lets me link to my old \n",
       "  computer via a serial port at xxunk k baud . xxmaj it then \" maps \" the other \n",
       "  machines two hard disks as my disks f & xxup g. xxmaj you can \" cd \" to these \n",
       "  drives and either run programs or copy files . xxmaj it 's almost like a \n",
       "  peer - peer lan except you can also * run * programs on the other machine . \n",
       "  xxmaj it 's not a two way street . xxmaj the other machine is the server and this \n",
       "  machine is the client . xxmaj so that s where it seems to differ from the \n",
       "  peer to peer stuff . xxmaj for a bundled xxup dos utility its very impressive . \n",
       " \n",
       "  xxmaj my xxmaj xxunk took about 11 minutes to back up 117 xxup mb of data . i also \n",
       "  by - passed any potential xxmaj gateway monitor problems by taking the $ 430 \n",
       "  credit and applying it towards a xxup nec xxup 4fg . i love this monitor ! \n",
       " \n",
       "  xxmaj so , i 'm glad there is some good news xxmaj gateway stories and i 'm glad it \n",
       "  was me . ( xxmaj now if it just xxup keeps working ) . :-) \n",
       " \n",
       " \n",
       " \t\t\t\t\t xxmaj john \n",
       " \n",
       " ,xxbos xxmaj after tons of mail , could we move this discussion to xxunk ? \n",
       "  xxrep 61 = \n",
       "  xxunk are many here among us who feel that life is but a joke . ( xxmaj bob xxmaj dylan ) \n",
       "  xxunk you were happy every day of your life you would n't be a human \n",
       "  being , you 'd be a game show host . \" ( taken from the movie \" xxmaj xxunk . \" ) \n",
       "  xxunk ( xxup xxunk xxunk ) - process by which the notes of the professor \n",
       "  become the notes of the student without passing through the minds of \n",
       "  either . \n",
       " ,xxbos \n",
       " \n",
       " \n",
       " \n",
       "  xxmaj gamma xxmaj ray xxmaj bursts ( grbs ) are seen coming equally from all directions . \n",
       "  xxmaj however , given the number of bright ones , there are too few faint \n",
       "  ones to be consistent with being equally dense for as far \n",
       "  as we can see -- it is as if they are all contained within \n",
       "  a finite sphere ( or a sphere with fuzzy edges ) with us at the \n",
       "  center . ( xxmaj these measurements are statistical , and you can \n",
       "  always hide a sufficiently small number of a different \n",
       "  type of xxup grb with a different origin in the data . i am assuming \n",
       "  that there is only one population of grbs ) . \n",
       " \n",
       "  xxmaj the data indicates that we are less than 10 % of the radius of the center \n",
       "  of the distribution . xxmaj the only things the xxmaj earth is at the exact center \n",
       "  of are the xxmaj solar system ( at the scale of the xxmaj oort cloud of comets \n",
       "  way beyond xxmaj pluto ) and the xxmaj universe . xxmaj cosmological theories , placing \n",
       "  grbs throughout the xxmaj universe , require supernova - type energies to \n",
       "  be released over a xxunk of milliseconds . xxmaj oort cloud models \n",
       "  tend to be silly , even by the standards of astrophysics . \n",
       " \n",
       "  xxmaj if grbs were xxmaj galactic ( i.e. distributed through the xxmaj milky xxmaj way xxmaj galaxy ) \n",
       "  you would expect them to be either concentrated in the plane of \n",
       "  the xxmaj galaxy ( for a ' disk ' population ) , or towards the xxmaj galactic center \n",
       "  ( for a spherical ' halo ' population ) . xxmaj we do n't see this , so if they \n",
       "  are xxmaj galactic , they must be in a halo at least 250,000 light years in \n",
       "  radius , and we would probably start to see grbs from the xxmaj andromeda \n",
       "  xxmaj galaxy ( assuming that it has a similar halo . ) xxmaj for comparison , the \n",
       "  xxmaj earth is 25,000 light - years from the center of the xxmaj galaxy . \n",
       " \n",
       " \n",
       "  xxmaj the are n't concentrated in the known xxunk , and we do n't \n",
       "  see many coming from xxmaj zeta xxmaj xxunk and xxmaj tau xxmaj xxunk . \n",
       " \n",
       " \n",
       "  xxmaj there are more than 130 xxup grb different models in the refereed literature . \n",
       "  xxmaj right now , the theorists have a sort of unofficial moratorium \n",
       "  on new models until new observational evidence comes in . \n",
       " ,xxbos \n",
       "  xxmaj it would seem logical that the mask is xxmaj xxunk . xxmaj his nickname is \" xxmaj the xxmaj cat \" , \n",
       "  which would go a long ways towards explaining the panther . \n",
       " \n",
       "  xxmaj of course , it could be an old story and the mask is xxmaj xxunk , too xxrep 5 .,xxbos i have two questions ( well probably more ... ) about how xxmaj expose & xxmaj configure \n",
       "  events are handled . \n",
       " \n",
       "  i have an xxunk . which uses 1 window to draw in . xxmaj since i give the user the \n",
       "  capability of scaling and zooming as well as allowing the window to be \n",
       "  resized , i made a translation table for the xxmaj expose & xxmaj configure events . \n",
       "  xxmaj the xxmaj expose event calls my redraw method while the xxmaj configure event \n",
       "  calls my xxunk method . xxmaj the xxunk method invokes a \" fake \" xxmaj expose \n",
       "  event ( actually just calls the redraw w / an appropriate xxmaj expose struct ) \n",
       "  to draw the data . \n",
       " \n",
       "  xxmaj quest 1 . \n",
       "  xxmaj when the xxunk . is compiled / linked w / xxup r4 ( running in either xxup r4 or xxup r5 env . ) \n",
       "  i get multiple ( > 4 ) redraws when the window gets uncovered or the size \n",
       "  is changed . i assume i 'm getting xxunk events . xxmaj is that right ? \n",
       "  xxmaj any suggestions as to how to handle / trap events in a better way ? \n",
       " \n",
       "  xxmaj quest 2 . \n",
       "  xxmaj when the xxunk . is compiled / linked w / xxup r5 i get no xxmaj expose events \n",
       "  whatsoever . xxmaj do events and / or translation tables act differently in xxup r5 ? \n",
       " \n",
       "  xxmaj thanks in advance \n",
       " \n",
       "  xxmaj steve \n",
       "  -- \n",
       "  xxrep 90 =\n",
       "y: CategoryList\n",
       "3,19,14,10,5\n",
       "Path: C:\\Users\\lpott\\.fastai\\data\\imdb_sample;\n",
       "\n",
       "Test: None, model=SequentialRNN(\n",
       "  (0): MultiBatchEncoder(\n",
       "    (module): AWD_LSTM(\n",
       "      (encoder): Embedding(51248, 400, padding_idx=1)\n",
       "      (encoder_dp): EmbeddingDropout(\n",
       "        (emb): Embedding(51248, 400, padding_idx=1)\n",
       "      )\n",
       "      (rnns): ModuleList(\n",
       "        (0): WeightDropout(\n",
       "          (module): LSTM(400, 1152, batch_first=True)\n",
       "        )\n",
       "        (1): WeightDropout(\n",
       "          (module): LSTM(1152, 1152, batch_first=True)\n",
       "        )\n",
       "        (2): WeightDropout(\n",
       "          (module): LSTM(1152, 400, batch_first=True)\n",
       "        )\n",
       "      )\n",
       "      (input_dp): RNNDropout()\n",
       "      (hidden_dps): ModuleList(\n",
       "        (0): RNNDropout()\n",
       "        (1): RNNDropout()\n",
       "        (2): RNNDropout()\n",
       "      )\n",
       "    )\n",
       "  )\n",
       "  (1): PoolingLinearClassifier(\n",
       "    (layers): Sequential(\n",
       "      (0): BatchNorm1d(1200, eps=1e-05, momentum=0.1, affine=True, track_running_stats=True)\n",
       "      (1): Dropout(p=0.18000000000000002, inplace=False)\n",
       "      (2): Linear(in_features=1200, out_features=50, bias=True)\n",
       "      (3): ReLU(inplace=True)\n",
       "      (4): BatchNorm1d(50, eps=1e-05, momentum=0.1, affine=True, track_running_stats=True)\n",
       "      (5): Dropout(p=0.1, inplace=False)\n",
       "      (6): Linear(in_features=50, out_features=20, bias=True)\n",
       "    )\n",
       "  )\n",
       "), opt_func=functools.partial(<class 'torch.optim.adam.Adam'>, betas=(0.9, 0.99)), loss_func=FlattenedLoss of CrossEntropyLoss(), metrics=[<function accuracy at 0x000001D781AD9A60>], true_wd=True, bn_wd=True, wd=0.01, train_bn=True, path=WindowsPath('C:/Users/lpott/.fastai/data/imdb_sample'), model_dir='models', callback_fns=[functools.partial(<class 'fastai.basic_train.Recorder'>, add_time=True, silent=False)], callbacks=[RNNTrainer\n",
       "learn: ...\n",
       "alpha: 2.0\n",
       "beta: 1.0], layer_groups=[Sequential(\n",
       "  (0): Embedding(51248, 400, padding_idx=1)\n",
       "  (1): EmbeddingDropout(\n",
       "    (emb): Embedding(51248, 400, padding_idx=1)\n",
       "  )\n",
       "), Sequential(\n",
       "  (0): WeightDropout(\n",
       "    (module): LSTM(400, 1152, batch_first=True)\n",
       "  )\n",
       "  (1): RNNDropout()\n",
       "), Sequential(\n",
       "  (0): WeightDropout(\n",
       "    (module): LSTM(1152, 1152, batch_first=True)\n",
       "  )\n",
       "  (1): RNNDropout()\n",
       "), Sequential(\n",
       "  (0): WeightDropout(\n",
       "    (module): LSTM(1152, 400, batch_first=True)\n",
       "  )\n",
       "  (1): RNNDropout()\n",
       "), Sequential(\n",
       "  (0): PoolingLinearClassifier(\n",
       "    (layers): Sequential(\n",
       "      (0): BatchNorm1d(1200, eps=1e-05, momentum=0.1, affine=True, track_running_stats=True)\n",
       "      (1): Dropout(p=0.18000000000000002, inplace=False)\n",
       "      (2): Linear(in_features=1200, out_features=50, bias=True)\n",
       "      (3): ReLU(inplace=True)\n",
       "      (4): BatchNorm1d(50, eps=1e-05, momentum=0.1, affine=True, track_running_stats=True)\n",
       "      (5): Dropout(p=0.1, inplace=False)\n",
       "      (6): Linear(in_features=50, out_features=20, bias=True)\n",
       "    )\n",
       "  )\n",
       ")], add_time=True, silent=False)"
      ]
     },
     "execution_count": 26,
     "metadata": {},
     "output_type": "execute_result"
    }
   ],
   "source": [
    "classifier.load_encoder('fine_enc')"
   ]
  },
  {
   "cell_type": "code",
   "execution_count": 27,
   "metadata": {},
   "outputs": [
    {
     "data": {
      "text/html": [
       "\n",
       "    <div>\n",
       "        <style>\n",
       "            /* Turns off some styling */\n",
       "            progress {\n",
       "                /* gets rid of default border in Firefox and Opera. */\n",
       "                border: none;\n",
       "                /* Needs to be in here for Safari polyfill so background images work as expected. */\n",
       "                background-size: auto;\n",
       "            }\n",
       "            .progress-bar-interrupted, .progress-bar-interrupted::-webkit-progress-bar {\n",
       "                background: #F44336;\n",
       "            }\n",
       "        </style>\n",
       "      <progress value='0' class='' max='1' style='width:300px; height:20px; vertical-align: middle;'></progress>\n",
       "      0.00% [0/1 00:00<00:00]\n",
       "    </div>\n",
       "    \n",
       "<table border=\"1\" class=\"dataframe\">\n",
       "  <thead>\n",
       "    <tr style=\"text-align: left;\">\n",
       "      <th>epoch</th>\n",
       "      <th>train_loss</th>\n",
       "      <th>valid_loss</th>\n",
       "      <th>accuracy</th>\n",
       "      <th>time</th>\n",
       "    </tr>\n",
       "  </thead>\n",
       "  <tbody>\n",
       "  </tbody>\n",
       "</table><p>\n",
       "\n",
       "    <div>\n",
       "        <style>\n",
       "            /* Turns off some styling */\n",
       "            progress {\n",
       "                /* gets rid of default border in Firefox and Opera. */\n",
       "                border: none;\n",
       "                /* Needs to be in here for Safari polyfill so background images work as expected. */\n",
       "                background-size: auto;\n",
       "            }\n",
       "            .progress-bar-interrupted, .progress-bar-interrupted::-webkit-progress-bar {\n",
       "                background: #F44336;\n",
       "            }\n",
       "        </style>\n",
       "      <progress value='94' class='' max='1837' style='width:300px; height:20px; vertical-align: middle;'></progress>\n",
       "      5.12% [94/1837 00:55<17:05 7.4642]\n",
       "    </div>\n",
       "    "
      ],
      "text/plain": [
       "<IPython.core.display.HTML object>"
      ]
     },
     "metadata": {},
     "output_type": "display_data"
    },
    {
     "name": "stdout",
     "output_type": "stream",
     "text": [
      "LR Finder is complete, type {learner_name}.recorder.plot() to see the graph.\n"
     ]
    }
   ],
   "source": [
    "classifier.lr_find()"
   ]
  },
  {
   "cell_type": "code",
   "execution_count": 28,
   "metadata": {},
   "outputs": [
    {
     "data": {
      "image/png": "[encoded data removed]",
      "text/plain": [
       "<Figure size 432x288 with 1 Axes>"
      ]
     },
     "metadata": {
      "needs_background": "light"
     },
     "output_type": "display_data"
    }
   ],
   "source": [
    "classifier.recorder.plot()"
   ]
  },
  {
   "cell_type": "code",
   "execution_count": 29,
   "metadata": {},
   "outputs": [
    {
     "data": {
      "text/html": [
       "<table border=\"1\" class=\"dataframe\">\n",
       "  <thead>\n",
       "    <tr style=\"text-align: left;\">\n",
       "      <th>epoch</th>\n",
       "      <th>train_loss</th>\n",
       "      <th>valid_loss</th>\n",
       "      <th>accuracy</th>\n",
       "      <th>time</th>\n",
       "    </tr>\n",
       "  </thead>\n",
       "  <tbody>\n",
       "    <tr>\n",
       "      <td>0</td>\n",
       "      <td>1.603031</td>\n",
       "      <td>1.395800</td>\n",
       "      <td>0.599228</td>\n",
       "      <td>05:23</td>\n",
       "    </tr>\n",
       "    <tr>\n",
       "      <td>1</td>\n",
       "      <td>1.408494</td>\n",
       "      <td>1.658821</td>\n",
       "      <td>0.637087</td>\n",
       "      <td>05:51</td>\n",
       "    </tr>\n",
       "    <tr>\n",
       "      <td>2</td>\n",
       "      <td>1.271786</td>\n",
       "      <td>1.125516</td>\n",
       "      <td>0.659513</td>\n",
       "      <td>05:50</td>\n",
       "    </tr>\n",
       "    <tr>\n",
       "      <td>3</td>\n",
       "      <td>1.307052</td>\n",
       "      <td>1.099240</td>\n",
       "      <td>0.672052</td>\n",
       "      <td>05:34</td>\n",
       "    </tr>\n",
       "    <tr>\n",
       "      <td>4</td>\n",
       "      <td>1.146087</td>\n",
       "      <td>1.191055</td>\n",
       "      <td>0.685315</td>\n",
       "      <td>05:27</td>\n",
       "    </tr>\n",
       "  </tbody>\n",
       "</table>"
      ],
      "text/plain": [
       "<IPython.core.display.HTML object>"
      ]
     },
     "metadata": {},
     "output_type": "display_data"
    },
    {
     "name": "stderr",
     "output_type": "stream",
     "text": [
      "C:\\Users\\lpott\\anaconda3\\envs\\NLP\\lib\\site-packages\\numpy\\core\\_asarray.py:83: VisibleDeprecationWarning: Creating an ndarray from ragged nested sequences (which is a list-or-tuple of lists-or-tuples-or ndarrays with different lengths or shapes) is deprecated. If you meant to do this, you must specify 'dtype=object' when creating the ndarray\n",
      "  return array(a, dtype, copy=False, order=order)\n",
      "<string>:6: VisibleDeprecationWarning: Creating an ndarray from ragged nested sequences (which is a list-or-tuple of lists-or-tuples-or ndarrays with different lengths or shapes) is deprecated. If you meant to do this, you must specify 'dtype=object' when creating the ndarray\n",
      "C:\\Users\\lpott\\anaconda3\\envs\\NLP\\lib\\site-packages\\numpy\\core\\_asarray.py:83: VisibleDeprecationWarning: Creating an ndarray from ragged nested sequences (which is a list-or-tuple of lists-or-tuples-or ndarrays with different lengths or shapes) is deprecated. If you meant to do this, you must specify 'dtype=object' when creating the ndarray\n",
      "  return array(a, dtype, copy=False, order=order)\n",
      "<string>:6: VisibleDeprecationWarning: Creating an ndarray from ragged nested sequences (which is a list-or-tuple of lists-or-tuples-or ndarrays with different lengths or shapes) is deprecated. If you meant to do this, you must specify 'dtype=object' when creating the ndarray\n",
      "C:\\Users\\lpott\\anaconda3\\envs\\NLP\\lib\\site-packages\\numpy\\core\\_asarray.py:83: VisibleDeprecationWarning: Creating an ndarray from ragged nested sequences (which is a list-or-tuple of lists-or-tuples-or ndarrays with different lengths or shapes) is deprecated. If you meant to do this, you must specify 'dtype=object' when creating the ndarray\n",
      "  return array(a, dtype, copy=False, order=order)\n",
      "<string>:6: VisibleDeprecationWarning: Creating an ndarray from ragged nested sequences (which is a list-or-tuple of lists-or-tuples-or ndarrays with different lengths or shapes) is deprecated. If you meant to do this, you must specify 'dtype=object' when creating the ndarray\n",
      "C:\\Users\\lpott\\anaconda3\\envs\\NLP\\lib\\site-packages\\numpy\\core\\_asarray.py:83: VisibleDeprecationWarning: Creating an ndarray from ragged nested sequences (which is a list-or-tuple of lists-or-tuples-or ndarrays with different lengths or shapes) is deprecated. If you meant to do this, you must specify 'dtype=object' when creating the ndarray\n",
      "  return array(a, dtype, copy=False, order=order)\n",
      "<string>:6: VisibleDeprecationWarning: Creating an ndarray from ragged nested sequences (which is a list-or-tuple of lists-or-tuples-or ndarrays with different lengths or shapes) is deprecated. If you meant to do this, you must specify 'dtype=object' when creating the ndarray\n",
      "C:\\Users\\lpott\\anaconda3\\envs\\NLP\\lib\\site-packages\\numpy\\core\\_asarray.py:83: VisibleDeprecationWarning: Creating an ndarray from ragged nested sequences (which is a list-or-tuple of lists-or-tuples-or ndarrays with different lengths or shapes) is deprecated. If you meant to do this, you must specify 'dtype=object' when creating the ndarray\n",
      "  return array(a, dtype, copy=False, order=order)\n",
      "<string>:6: VisibleDeprecationWarning: Creating an ndarray from ragged nested sequences (which is a list-or-tuple of lists-or-tuples-or ndarrays with different lengths or shapes) is deprecated. If you meant to do this, you must specify 'dtype=object' when creating the ndarray\n"
     ]
    }
   ],
   "source": [
    "classifier.fit_one_cycle(5,1e-2,moms=(.8,.7))"
   ]
  },
  {
   "cell_type": "code",
   "execution_count": 30,
   "metadata": {
    "scrolled": true
   },
   "outputs": [
    {
     "data": {
      "image/png": "[encoded data removed]",
      "text/plain": [
       "<Figure size 432x288 with 1 Axes>"
      ]
     },
     "metadata": {
      "needs_background": "light"
     },
     "output_type": "display_data"
    }
   ],
   "source": [
    "classifier.recorder.plot_losses()"
   ]
  },
  {
   "cell_type": "code",
   "execution_count": 31,
   "metadata": {},
   "outputs": [],
   "source": [
    "torch.cuda.empty_cache()"
   ]
  },
  {
   "cell_type": "code",
   "execution_count": 32,
   "metadata": {},
   "outputs": [
    {
     "data": {
      "text/html": [
       "<table border=\"1\" class=\"dataframe\">\n",
       "  <thead>\n",
       "    <tr style=\"text-align: left;\">\n",
       "      <th>epoch</th>\n",
       "      <th>train_loss</th>\n",
       "      <th>valid_loss</th>\n",
       "      <th>accuracy</th>\n",
       "      <th>time</th>\n",
       "    </tr>\n",
       "  </thead>\n",
       "  <tbody>\n",
       "    <tr>\n",
       "      <td>0</td>\n",
       "      <td>1.321372</td>\n",
       "      <td>1.132720</td>\n",
       "      <td>0.659995</td>\n",
       "      <td>06:06</td>\n",
       "    </tr>\n",
       "    <tr>\n",
       "      <td>1</td>\n",
       "      <td>1.225484</td>\n",
       "      <td>1.087431</td>\n",
       "      <td>0.667953</td>\n",
       "      <td>05:55</td>\n",
       "    </tr>\n",
       "    <tr>\n",
       "      <td>2</td>\n",
       "      <td>1.235199</td>\n",
       "      <td>1.059170</td>\n",
       "      <td>0.687485</td>\n",
       "      <td>06:28</td>\n",
       "    </tr>\n",
       "    <tr>\n",
       "      <td>3</td>\n",
       "      <td>0.952904</td>\n",
       "      <td>0.978201</td>\n",
       "      <td>0.701712</td>\n",
       "      <td>06:48</td>\n",
       "    </tr>\n",
       "    <tr>\n",
       "      <td>4</td>\n",
       "      <td>0.797240</td>\n",
       "      <td>0.956100</td>\n",
       "      <td>0.712322</td>\n",
       "      <td>06:25</td>\n",
       "    </tr>\n",
       "  </tbody>\n",
       "</table>"
      ],
      "text/plain": [
       "<IPython.core.display.HTML object>"
      ]
     },
     "metadata": {},
     "output_type": "display_data"
    },
    {
     "name": "stderr",
     "output_type": "stream",
     "text": [
      "C:\\Users\\lpott\\anaconda3\\envs\\NLP\\lib\\site-packages\\numpy\\core\\_asarray.py:83: VisibleDeprecationWarning: Creating an ndarray from ragged nested sequences (which is a list-or-tuple of lists-or-tuples-or ndarrays with different lengths or shapes) is deprecated. If you meant to do this, you must specify 'dtype=object' when creating the ndarray\n",
      "  return array(a, dtype, copy=False, order=order)\n",
      "<string>:6: VisibleDeprecationWarning: Creating an ndarray from ragged nested sequences (which is a list-or-tuple of lists-or-tuples-or ndarrays with different lengths or shapes) is deprecated. If you meant to do this, you must specify 'dtype=object' when creating the ndarray\n",
      "C:\\Users\\lpott\\anaconda3\\envs\\NLP\\lib\\site-packages\\numpy\\core\\_asarray.py:83: VisibleDeprecationWarning: Creating an ndarray from ragged nested sequences (which is a list-or-tuple of lists-or-tuples-or ndarrays with different lengths or shapes) is deprecated. If you meant to do this, you must specify 'dtype=object' when creating the ndarray\n",
      "  return array(a, dtype, copy=False, order=order)\n",
      "<string>:6: VisibleDeprecationWarning: Creating an ndarray from ragged nested sequences (which is a list-or-tuple of lists-or-tuples-or ndarrays with different lengths or shapes) is deprecated. If you meant to do this, you must specify 'dtype=object' when creating the ndarray\n",
      "C:\\Users\\lpott\\anaconda3\\envs\\NLP\\lib\\site-packages\\numpy\\core\\_asarray.py:83: VisibleDeprecationWarning: Creating an ndarray from ragged nested sequences (which is a list-or-tuple of lists-or-tuples-or ndarrays with different lengths or shapes) is deprecated. If you meant to do this, you must specify 'dtype=object' when creating the ndarray\n",
      "  return array(a, dtype, copy=False, order=order)\n",
      "<string>:6: VisibleDeprecationWarning: Creating an ndarray from ragged nested sequences (which is a list-or-tuple of lists-or-tuples-or ndarrays with different lengths or shapes) is deprecated. If you meant to do this, you must specify 'dtype=object' when creating the ndarray\n",
      "C:\\Users\\lpott\\anaconda3\\envs\\NLP\\lib\\site-packages\\numpy\\core\\_asarray.py:83: VisibleDeprecationWarning: Creating an ndarray from ragged nested sequences (which is a list-or-tuple of lists-or-tuples-or ndarrays with different lengths or shapes) is deprecated. If you meant to do this, you must specify 'dtype=object' when creating the ndarray\n",
      "  return array(a, dtype, copy=False, order=order)\n",
      "<string>:6: VisibleDeprecationWarning: Creating an ndarray from ragged nested sequences (which is a list-or-tuple of lists-or-tuples-or ndarrays with different lengths or shapes) is deprecated. If you meant to do this, you must specify 'dtype=object' when creating the ndarray\n",
      "C:\\Users\\lpott\\anaconda3\\envs\\NLP\\lib\\site-packages\\numpy\\core\\_asarray.py:83: VisibleDeprecationWarning: Creating an ndarray from ragged nested sequences (which is a list-or-tuple of lists-or-tuples-or ndarrays with different lengths or shapes) is deprecated. If you meant to do this, you must specify 'dtype=object' when creating the ndarray\n",
      "  return array(a, dtype, copy=False, order=order)\n",
      "<string>:6: VisibleDeprecationWarning: Creating an ndarray from ragged nested sequences (which is a list-or-tuple of lists-or-tuples-or ndarrays with different lengths or shapes) is deprecated. If you meant to do this, you must specify 'dtype=object' when creating the ndarray\n"
     ]
    }
   ],
   "source": [
    "classifier.freeze_to(-2)\n",
    "classifier.fit_one_cycle(5,slice(5e-3/2.,5e-3),moms=(.8,.7))"
   ]
  },
  {
   "cell_type": "code",
   "execution_count": 33,
   "metadata": {},
   "outputs": [],
   "source": [
    "torch.cuda.empty_cache()"
   ]
  },
  {
   "cell_type": "code",
   "execution_count": 34,
   "metadata": {},
   "outputs": [
    {
     "data": {
      "text/html": [
       "<table border=\"1\" class=\"dataframe\">\n",
       "  <thead>\n",
       "    <tr style=\"text-align: left;\">\n",
       "      <th>epoch</th>\n",
       "      <th>train_loss</th>\n",
       "      <th>valid_loss</th>\n",
       "      <th>accuracy</th>\n",
       "      <th>time</th>\n",
       "    </tr>\n",
       "  </thead>\n",
       "  <tbody>\n",
       "    <tr>\n",
       "      <td>0</td>\n",
       "      <td>0.749052</td>\n",
       "      <td>0.969389</td>\n",
       "      <td>0.713769</td>\n",
       "      <td>09:27</td>\n",
       "    </tr>\n",
       "    <tr>\n",
       "      <td>1</td>\n",
       "      <td>0.707079</td>\n",
       "      <td>0.982585</td>\n",
       "      <td>0.712563</td>\n",
       "      <td>10:14</td>\n",
       "    </tr>\n",
       "    <tr>\n",
       "      <td>2</td>\n",
       "      <td>0.710691</td>\n",
       "      <td>0.981648</td>\n",
       "      <td>0.721244</td>\n",
       "      <td>09:03</td>\n",
       "    </tr>\n",
       "    <tr>\n",
       "      <td>3</td>\n",
       "      <td>0.605620</td>\n",
       "      <td>0.983015</td>\n",
       "      <td>0.722209</td>\n",
       "      <td>09:28</td>\n",
       "    </tr>\n",
       "    <tr>\n",
       "      <td>4</td>\n",
       "      <td>0.605049</td>\n",
       "      <td>0.997659</td>\n",
       "      <td>0.716180</td>\n",
       "      <td>08:38</td>\n",
       "    </tr>\n",
       "  </tbody>\n",
       "</table>"
      ],
      "text/plain": [
       "<IPython.core.display.HTML object>"
      ]
     },
     "metadata": {},
     "output_type": "display_data"
    },
    {
     "name": "stderr",
     "output_type": "stream",
     "text": [
      "C:\\Users\\lpott\\anaconda3\\envs\\NLP\\lib\\site-packages\\numpy\\core\\_asarray.py:83: VisibleDeprecationWarning: Creating an ndarray from ragged nested sequences (which is a list-or-tuple of lists-or-tuples-or ndarrays with different lengths or shapes) is deprecated. If you meant to do this, you must specify 'dtype=object' when creating the ndarray\n",
      "  return array(a, dtype, copy=False, order=order)\n",
      "<string>:6: VisibleDeprecationWarning: Creating an ndarray from ragged nested sequences (which is a list-or-tuple of lists-or-tuples-or ndarrays with different lengths or shapes) is deprecated. If you meant to do this, you must specify 'dtype=object' when creating the ndarray\n",
      "C:\\Users\\lpott\\anaconda3\\envs\\NLP\\lib\\site-packages\\numpy\\core\\_asarray.py:83: VisibleDeprecationWarning: Creating an ndarray from ragged nested sequences (which is a list-or-tuple of lists-or-tuples-or ndarrays with different lengths or shapes) is deprecated. If you meant to do this, you must specify 'dtype=object' when creating the ndarray\n",
      "  return array(a, dtype, copy=False, order=order)\n",
      "<string>:6: VisibleDeprecationWarning: Creating an ndarray from ragged nested sequences (which is a list-or-tuple of lists-or-tuples-or ndarrays with different lengths or shapes) is deprecated. If you meant to do this, you must specify 'dtype=object' when creating the ndarray\n",
      "C:\\Users\\lpott\\anaconda3\\envs\\NLP\\lib\\site-packages\\numpy\\core\\_asarray.py:83: VisibleDeprecationWarning: Creating an ndarray from ragged nested sequences (which is a list-or-tuple of lists-or-tuples-or ndarrays with different lengths or shapes) is deprecated. If you meant to do this, you must specify 'dtype=object' when creating the ndarray\n",
      "  return array(a, dtype, copy=False, order=order)\n",
      "<string>:6: VisibleDeprecationWarning: Creating an ndarray from ragged nested sequences (which is a list-or-tuple of lists-or-tuples-or ndarrays with different lengths or shapes) is deprecated. If you meant to do this, you must specify 'dtype=object' when creating the ndarray\n",
      "C:\\Users\\lpott\\anaconda3\\envs\\NLP\\lib\\site-packages\\numpy\\core\\_asarray.py:83: VisibleDeprecationWarning: Creating an ndarray from ragged nested sequences (which is a list-or-tuple of lists-or-tuples-or ndarrays with different lengths or shapes) is deprecated. If you meant to do this, you must specify 'dtype=object' when creating the ndarray\n",
      "  return array(a, dtype, copy=False, order=order)\n",
      "<string>:6: VisibleDeprecationWarning: Creating an ndarray from ragged nested sequences (which is a list-or-tuple of lists-or-tuples-or ndarrays with different lengths or shapes) is deprecated. If you meant to do this, you must specify 'dtype=object' when creating the ndarray\n",
      "C:\\Users\\lpott\\anaconda3\\envs\\NLP\\lib\\site-packages\\numpy\\core\\_asarray.py:83: VisibleDeprecationWarning: Creating an ndarray from ragged nested sequences (which is a list-or-tuple of lists-or-tuples-or ndarrays with different lengths or shapes) is deprecated. If you meant to do this, you must specify 'dtype=object' when creating the ndarray\n",
      "  return array(a, dtype, copy=False, order=order)\n",
      "<string>:6: VisibleDeprecationWarning: Creating an ndarray from ragged nested sequences (which is a list-or-tuple of lists-or-tuples-or ndarrays with different lengths or shapes) is deprecated. If you meant to do this, you must specify 'dtype=object' when creating the ndarray\n"
     ]
    }
   ],
   "source": [
    "classifier.unfreeze()\n",
    "classifier.fit_one_cycle(5,slice(1e-3/100,1e-3),moms=(.8,.7))"
   ]
  },
  {
   "cell_type": "code",
   "execution_count": 35,
   "metadata": {},
   "outputs": [],
   "source": [
    "torch.cuda.empty_cache()"
   ]
  },
  {
   "cell_type": "code",
   "execution_count": 36,
   "metadata": {},
   "outputs": [
    {
     "data": {
      "image/png": "[encoded data removed]",
      "text/plain": [
       "<Figure size 432x288 with 1 Axes>"
      ]
     },
     "metadata": {
      "needs_background": "light"
     },
     "output_type": "display_data"
    }
   ],
   "source": [
    "classifier.recorder.plot_losses()"
   ]
  },
  {
   "cell_type": "code",
   "execution_count": 87,
   "metadata": {},
   "outputs": [
    {
     "name": "stdout",
     "output_type": "stream",
     "text": [
      "0 alt.atheism\n",
      "1 comp.graphics\n",
      "2 comp.os.ms-windows.misc\n",
      "3 comp.sys.ibm.pc.hardware\n",
      "4 comp.sys.mac.hardware\n",
      "5 comp.windows.x\n",
      "6 misc.forsale\n",
      "7 rec.autos\n",
      "8 rec.motorcycles\n",
      "9 rec.sport.baseball\n",
      "10 rec.sport.hockey\n",
      "11 sci.crypt\n",
      "12 sci.electronics\n",
      "13 sci.med\n",
      "14 sci.space\n",
      "15 soc.religion.christian\n",
      "16 talk.politics.guns\n",
      "17 talk.politics.mideast\n",
      "18 talk.politics.misc\n",
      "19 talk.religion.misc\n"
     ]
    }
   ],
   "source": [
    "for i,group in enumerate(newsgroups_train.target_names):\n",
    "    print(i,group)"
   ]
  },
  {
   "cell_type": "code",
   "execution_count": 89,
   "metadata": {},
   "outputs": [
    {
     "name": "stderr",
     "output_type": "stream",
     "text": [
      "C:\\Users\\lpott\\anaconda3\\envs\\NLP\\lib\\site-packages\\fastai\\torch_core.py:83: UserWarning: Tensor is int32: upgrading to int64; for better performance use int64 input\n",
      "  warn('Tensor is int32: upgrading to int64; for better performance use int64 input')\n"
     ]
    },
    {
     "data": {
      "text/plain": [
       "(Category tensor(4),\n",
       " tensor(4),\n",
       " tensor([3.5127e-04, 6.3302e-03, 6.6285e-03, 5.1927e-02, 8.6459e-01, 2.4295e-02,\n",
       "         6.4170e-04, 1.5732e-03, 3.0166e-04, 2.7922e-02, 1.1639e-03, 3.0501e-03,\n",
       "         9.8098e-03, 4.3994e-04, 2.4304e-05, 2.9395e-04, 2.9358e-04, 2.5966e-04,\n",
       "         1.4776e-05, 9.0718e-05]))"
      ]
     },
     "execution_count": 89,
     "metadata": {},
     "output_type": "execute_result"
    }
   ],
   "source": [
    "classifier.predict(\"My laptop seemed to have a virus on it, but apple genius said they would fix it\")"
   ]
  }
 ],
 "metadata": {
  "kernelspec": {
   "display_name": "Python 3",
   "language": "python",
   "name": "python3"
  },
  "language_info": {
   "codemirror_mode": {
    "name": "ipython",
    "version": 3
   },
   "file_extension": ".py",
   "mimetype": "text/x-python",
   "name": "python",
   "nbconvert_exporter": "python",
   "pygments_lexer": "ipython3",
   "version": "3.7.3"
  }
 },
 "nbformat": 4,
 "nbformat_minor": 4
}
